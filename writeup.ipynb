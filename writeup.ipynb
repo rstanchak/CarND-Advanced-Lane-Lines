{
 "cells": [
  {
   "cell_type": "markdown",
   "metadata": {
    "deletable": true,
    "editable": true
   },
   "source": [
    "# Advanced Lane Finding Project\n",
    "\n",
    "Author: Roman Stanchak<br/>\n",
    "Date: 2017-05-28<br/>\n",
    "Udacity Self Driving Car Nanodegree Term 1\n",
    "\n",
    "The goals / steps of this project are the following:\n",
    "\n",
    "* Compute the camera calibration matrix and distortion coefficients given a set of chessboard images.\n",
    "* Apply a distortion correction to raw images.\n",
    "* Use color transforms, gradients, etc., to create a thresholded binary image.\n",
    "* Apply a perspective transform to rectify binary image (\"birds-eye view\").\n",
    "* Detect lane pixels and fit to find the lane boundary.\n",
    "* Determine the curvature of the lane and vehicle position with respect to center.\n",
    "* Warp the detected lane boundaries back onto the original image.\n",
    "* Output visual display of the lane boundaries and numerical estimation of lane curvature and vehicle position.\n",
    "\n",
    "[//]: # (Image References)\n",
    "\n",
    "[image1]: ./examples/undistort_output.png \"Undistorted\"\n",
    "[image2]: ./test_images/test1.jpg \"Road Transformed\"\n",
    "[image3]: ./examples/binary_combo_example.jpg \"Binary Example\"\n",
    "[image4]: ./examples/warped_straight_lines.jpg \"Warp Example\"\n",
    "[image5]: ./examples/color_fit_lines.jpg \"Fit Visual\"\n",
    "[image6]: ./examples/example_output.jpg \"Output\"\n",
    "[video1]: ./project_video.mp4 \"Video\"\n",
    "\n",
    "## [Rubric](https://review.udacity.com/#!/rubrics/571/view) Points\n",
    "\n",
    "### Here I will consider the rubric points individually and describe how I addressed each point in my implementation.  \n",
    "\n",
    "---\n",
    "\n",
    "### Writeup/README\n",
    "\n",
    "#### 1. Provide a Writeup\n",
    "This document describes my approach to the Advanced Lane Finding project"
   ]
  },
  {
   "cell_type": "markdown",
   "metadata": {
    "deletable": true,
    "editable": true
   },
   "source": [
    "### Camera Calibration\n",
    "#### 1. Briefly state how you computed the camera matrix and distortion coefficients. Provide an example of a distortion corrected calibration image.\n",
    "\n",
    "To compute the camera matrix, I implemented the following steps:\n",
    "1. Find image points in images corresponding to a reference calibration object.  In this case, a chessboard pattern.  Please refer to [findcorners.py](findcorners.py) for the implementation.\n",
    "2. Input image and object point correspondence to OpenCV calibration function. Please refer to [calibrate.py](calibrate.py) for the implementation.\n",
    "\n",
    "The image below shows an example of the detected chessboard pattern using the command\n",
    "```shell\n",
    "python drawcorners.py <findcorners_output.npz> <output filename>\n",
    "```\n",
    "\n",
    "<img src=\"corners/calibration2.jpg\" width=\"640\"/> \n",
    "\n",
    "The example below shows a calibration image before and after distortion correction using the command\n",
    "```shell\n",
    "python m3_undistort.py <input directory> <calibration.npz> <output directory>\n",
    "```\n",
    "\n",
    "| Original | Corrected |\n",
    "|:---------|:----------|\n",
    "| <img src=\"camera_cal/calibration2.jpg\" width=\"480\"/> | <img src=\"undistorted/calibration2.jpg\" width=\"480\"/>|"
   ]
  },
  {
   "cell_type": "markdown",
   "metadata": {
    "deletable": true,
    "editable": true
   },
   "source": [
    "### Pipeline (single images)\n",
    "\n",
    "#### 1. Provide an example of a distortion-corrected image.\n",
    "\n",
    "The example below shows a test image before and after distortion correction\n",
    "\n",
    "| Original | Corrected |\n",
    "|:---------|:----------|\n",
    "| <img src=\"test_images/straight_lines1.jpg\" width=\"480\"/> | <img src=\"undistorted/straight_lines1.jpg\" width=\"480\"/>|\n",
    "\n",
    "#### 2. Describe how (and identify where in your code) you used color transforms, gradients or other methods to create a thresholded binary image.  Provide an example of a binary image result.\n",
    "\n",
    "To create a binary thresholded images, I used the following components:\n",
    "\n",
    "| Component | Description |\n",
    "|:----------|:------------|\n",
    "| $v$       | V Channel of HSV colorspace image |\n",
    "| $s$       | S Channel of HLS colorspace image |\n",
    "| $\\lvert I_x\\rvert$   | Absolute gradient in X direction  |\n",
    "| $\\mid I_y\\mid$   | Absolute gradient in Y direction |\n",
    "\n",
    "To produce the final binary image, these components are thresholded and combined as follows:\n",
    "\n",
    "$(v>thresh_v$  AND $s>thresh_s)$ OR $(|I_x|>thresh_{I_x}$ AND $|I_y|>thresh_{I_y}) $\n",
    "\n",
    "See the class Thresholder in the file [lanefinder.py](lanefinder.py) (line 40)\n",
    "\n",
    "The threshold values were chosen empirically to maximize lane pixels and minimize noise on the test images.  A sample is shown below\n",
    "\n",
    "| Original | Thresholded |\n",
    "|:---------|:------------|\n",
    "| <img src=\"test_images/straight_lines1.jpg\" width=\"480\"/> | <img src=\"thresholded/straight_lines1.jpg\" width=\"480\"/>|"
   ]
  },
  {
   "cell_type": "markdown",
   "metadata": {
    "deletable": true,
    "editable": true
   },
   "source": [
    "#### 3. Describe how (and identify where in your code) you performed a perspective transform and provide an example of a transformed image.\n",
    "\n",
    "I chose to hard code the input region of interest.  Using one of the 'straight_line' images, I identified a trapezoid that appeared to create a tight rectangular bounding box around a lane.  I computed the perspective transform to a rectangular region in the image with padding on the top and sides to capture the surrounding\n",
    "image area.  This is done in the class PerspectiveTransform in the file [lanefinder.py](lanefinder.py) (line 76).\n",
    "        \n",
    "An example is shown below:\n",
    "\n",
    "| Original | Transformed |\n",
    "|:---------|:------------|\n",
    "| <img src=\"transformed/overlay.jpg\" width=\"480\"/> | <img src=\"transformed/transformed.jpg\" width=\"480\"/>|"
   ]
  },
  {
   "cell_type": "markdown",
   "metadata": {
    "deletable": true,
    "editable": true
   },
   "source": [
    "#### 4. Describe how (and identify where in your code) you identified lane-line pixels and fit their positions with a polynomial?\n",
    "\n",
    "To identify lane line pixels and fit their positions with a polynomial, I used the following algorithm (see LaneFinder class [lanefinder.py](lanefinder.py) (line 113, 198, 210)\n",
    "1. Convolve the binary image result with a of gaussian of width=49 and height=3.  The intent was to produce a large filter response in the center of the lane lines. (see line 199, 228)\n",
    "2. For each Y, determine the local maximum in the X-direction in a small window at the expected lane positions. (see line 203 and 228)\n",
    "3. If the maximum value > 0, save the (X,Y) pair to a list of lane-line pixels to fit to a polynomial.  Reject the (X,Y) pair if the maximum value is 0 (i.e. no lane marking found at this Y value) (see line 204)\n",
    "4. Repeat for left and right lanes.\n",
    "5. Fit the lane points to the lane width and a curve representing the lane center (see lines 233:269)\n",
    "6. Extrapolate the left and right lane borders based on the computed lane center and lane width (see line 132)\n",
    "\n",
    "Step 5 requires a bit more explanation:\n",
    "\n",
    "The lane center is modeled with a second order polynomial \n",
    "\n",
    "$f(y) = Ay^2 + By + C$\n",
    "\n",
    "The lane lines $f_{left}$ and $f_{right}$ are the same polynomial shifted left and right by half the lane width $w$:\n",
    "\n",
    "$f_{left}(y) = Ay^2 + By + C - w/2$\n",
    "\n",
    "$f_{right}(y) = Ay^2 + By + C + w/2$\n",
    "\n",
    "The parameters A,B,C and w are unknown, but linear.  Solving in least squares fashion by stacking constraints is straightforward.\n",
    "\n",
    "let $\\mathbf{x}=\\mathbf{Y}\\mathbf{\\beta}$\n",
    "\n",
    "where \n",
    "\n",
    "$\\mathbf{\\beta} = [A, B, C, w]$\n",
    "\n",
    "$\\mathbf{x} = [x_1, x_2, ... x_n]$\n",
    "\n",
    "$\\mathbf{Y} = [Y_1, Y_2, ... Y_n]^T$\n",
    "\n",
    "and\n",
    "\n",
    "$Y_i = [y_i^2, y_i, 1, \\alpha]$\n",
    "\n",
    "and\n",
    "\n",
    "$\\alpha=-0.5$ for left lane points\n",
    "$\\alpha=0.5$ for right lane points\n",
    "\n",
    "The least squares solution $\\mathbf{\\hat{\\beta}}$ (as given by <a href=\"https://en.wikipedia.org/wiki/Linear_least_squares_(mathematics)\">Wikipedia - Linear least squares</a>) is\n",
    "\n",
    "$\\mathbf{\\hat{\\beta}} = (\\mathbf{Y}^T\\mathbf{Y})^{-1}\\mathbf{Y}^T\\mathbf{x}$\n",
    "\n",
    "I chose to use this approach in order to fit a curve more robustly to the detected lane points.  I had some trouble fitting the dashed-lane line when there were few datapoints.  Fitting all 4 parameters simultaneously to the measurements proved less prone to sparse lane points.\n",
    "\n",
    "Another approach I implemented to make the fit more robust is including a generated dataset from the curve estimated in the previous frame.  This had the effect of averaging the effect of new measurements with the current estimated lane curve and overcoming instances when thresholding failed or lane pixels were not detected in the correct position."
   ]
  },
  {
   "cell_type": "markdown",
   "metadata": {
    "deletable": true,
    "editable": true
   },
   "source": [
    "#### 5. Describe how (and identify where in your code) you calculated the radius of curvature of the lane and the position of the vehicle with respect to center.\n",
    "\n",
    "To compute the radius of curvature, I first computed the equivalent polynomial curve in world space using empirical scaling factor $s_x$ of 12ft/647 pixels in the X direction and $s_y$ of 10ft/180 pixels in the Y direction.  Then, I used the given curvature equation to compute the curvature from the polynomial coefficients:\n",
    "\n",
    "$R_{curve} = ((1+(2Ay+B)^2)^{3/2}) / (|2A|)$\n",
    "\n",
    "with $y = s_y * image.height$\n",
    "\n",
    "To compute the position with respect to the center, I assumed that the center of the image is the center of the vehicle and computed the difference in X position with the polynomial curve in image coordinates.  This value was scaled by $s_x$ to determine the offset in real-world coordinates.\n",
    "\n",
    "The code for this is in the function drawtext in [lanefinder.py](lanefinder.py) (lines 149-190)\n",
    "\n",
    "#### 6. Provide an example image of your result plotted back down onto the road such that the lane area is identified clearly.\n",
    "\n",
    "<img src=\"results/test3.jpg\" width=\"640\"/>\n",
    "\n",
    "---"
   ]
  },
  {
   "cell_type": "markdown",
   "metadata": {
    "deletable": true,
    "editable": true
   },
   "source": [
    "### Pipeline (video)\n",
    "\n",
    "#### 1. Provide a link to your final video output.  Your pipeline should perform reasonably well on the entire project video (wobbly lines are ok but no catastrophic failures that would cause the car to drive off the road!).\n",
    "\n",
    "<a href=\"results/project_video.mp4\">Project Video Result</a>\n",
    "\n",
    "---\n",
    "\n",
    "### Discussion\n",
    "\n",
    "#### 1. Briefly discuss any problems / issues you faced in your implementation of this project.  Where will your pipeline likely fail?  What could you do to make it more robust?\n",
    "\n",
    "My problems were mostly self inflicted.  Instead of following the project instructions, I went rogue and went down a rabbit hole trying different solutions.  None of them panned out too well, and 4 weeks after the deadline, I can't even recall what I tried.  Going back to the basics I pulled together this implementation mostly based on the project instructions.\n",
    "\n",
    "My pipeline assumes that the left lane is in the left half of the image and the right lane is the right half.  It fails when the road curvature or center position is such that this assumption is violated.\n",
    "\n",
    "To make the pipeline more robust I would:\n",
    "* use robust statistics and/or clustering methods to fit grouped lane pixels more closely and ignore outliers\n",
    "* use known information about the road curvature to guide the fit (i.e. it will fall within an expected range and will vary slowly)\n",
    "* use the image gradient to refine the lane boundaries more precisely"
   ]
  },
  {
   "cell_type": "code",
   "execution_count": null,
   "metadata": {
    "collapsed": true
   },
   "outputs": [],
   "source": []
  }
 ],
 "metadata": {
  "kernelspec": {
   "display_name": "Python 3",
   "language": "python",
   "name": "python3"
  },
  "language_info": {
   "codemirror_mode": {
    "name": "ipython",
    "version": 3
   },
   "file_extension": ".py",
   "mimetype": "text/x-python",
   "name": "python",
   "nbconvert_exporter": "python",
   "pygments_lexer": "ipython3",
   "version": "3.5.2"
  },
  "widgets": {
   "state": {},
   "version": "1.1.2"
  }
 },
 "nbformat": 4,
 "nbformat_minor": 2
}
